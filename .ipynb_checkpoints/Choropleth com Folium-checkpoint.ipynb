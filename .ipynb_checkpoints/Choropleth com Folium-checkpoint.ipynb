{
 "cells": [
  {
   "cell_type": "code",
   "execution_count": 6,
   "metadata": {
    "collapsed": true
   },
   "outputs": [],
   "source": [
    "import os\n",
    "import folium\n",
    "import json\n",
    "import pandas as pd\n",
    "from branca.colormap import linear\n",
    "import numpy as np\n",
    "from shapely.geometry import Polygon\n",
    "from shapely.geometry import Point\n",
    "from numpy import random\n",
    "\n",
    "import folium\n",
    "import json\n",
    "from branca.utilities import _locations_mirror\n",
    "from folium.features import *\n",
    "from folium.features import _locations_tolist"
   ]
  },
  {
   "cell_type": "code",
   "execution_count": 7,
   "metadata": {
    "collapsed": true
   },
   "outputs": [],
   "source": [
    "# read the data to a dataframe\n",
    "data2017 = pd.read_csv('data/population_2017.csv')\n",
    "data2017.columns = [cols.replace(' ', '_') for cols in data2017.columns]\n",
    "\n",
    "nordeste = ['MA', 'PI', 'CE', 'RN', 'PB', 'PE','AL','SE', 'BA']"
   ]
  },
  {
   "cell_type": "code",
   "execution_count": 8,
   "metadata": {
    "collapsed": true
   },
   "outputs": [],
   "source": [
    "def getRegiaoData(dataset, states):\n",
    "    dataRegiao = pd.DataFrame()\n",
    "    for state in states:\n",
    "        dataRegiao = dataRegiao.append(dataset[dataset['UF'] == state])\n",
    "    return dataRegiao"
   ]
  },
  {
   "cell_type": "code",
   "execution_count": 9,
   "metadata": {
    "collapsed": true
   },
   "outputs": [],
   "source": [
    "\n",
    "def carregar_geojson_ne():\n",
    "    ne_geo = json.load(open('geojson/geojs-21-mun.json', encoding='latin-1'))\n",
    "\n",
    "    for i in np.arange(2,len(nordeste)+1):\n",
    "        ne_geo['features'] += (json.load(\n",
    "            open(os.path.join('geojson', \"geojs-2\" + str(i) +  \"-mun.json\"),\n",
    "                 encoding='latin-1')))['features']            \n",
    "    return ne_geo\n",
    "\n",
    "def atualizar_geojson(geojson):\n",
    "    for feat in geojson['features']:\n",
    "        if feat['properties']['description'] == 'Itapagé':\n",
    "            feat['properties']['description'] = 'Itapajé'\n",
    "            feat['properties']['name'] = 'Itapajé'\n",
    "\n",
    "        if feat['properties']['description'] == 'Quixabá':\n",
    "            feat['properties']['description'] = 'Quixaba'\n",
    "            feat['properties']['name'] = 'Quixaba'\n",
    "\n",
    "        if feat['properties']['description'] == 'Santarém':\n",
    "            feat['properties']['description'] = 'Joca Claudino'\n",
    "            feat['properties']['name'] = 'Joca Claudino'\n",
    "\n",
    "        if feat['properties']['description'] == 'Seridó':\n",
    "            feat['properties']['description'] = 'São Vicente do Seridó'\n",
    "            feat['properties']['name'] = 'São Vicente do Seridó'\n",
    "\n",
    "        if feat['properties']['description'] == 'Campo de Santana':\n",
    "            feat['properties']['description'] = 'Tacima'\n",
    "            feat['properties']['name'] = 'Tacima'\n",
    "\n",
    "        if feat['properties']['description'] == 'Belém de São Francisco':\n",
    "            feat['properties']['description'] = 'Belém do São Francisco'\n",
    "            feat['properties']['name'] = 'Belém do São Francisco'\n",
    "\n",
    "        if feat['properties']['description'] == 'Iguaraci':\n",
    "            feat['properties']['description'] = 'Iguaracy'\n",
    "            feat['properties']['name'] = 'Iguaracy'\n",
    "\n",
    "        if feat['properties']['description'] == 'Gracho Cardoso':\n",
    "            feat['properties']['description'] = 'Graccho Cardoso'\n",
    "            feat['properties']['name'] = 'Graccho Cardoso'\n",
    "\n",
    "        if feat['properties']['description'] == 'Lagoa do Itaenga':\n",
    "            feat['properties']['description'] = 'Lagoa de Itaenga'\n",
    "            feat['properties']['name'] = 'Lagoa de Itaenga'\n",
    "\n",
    "        if feat['properties']['id'] == 2410306:\n",
    "            feat['properties']['description'] = 'Serra Caiada'\n",
    "            feat['properties']['name'] = 'Serra Caiada'\n",
    "            \n",
    "    return geojson\n",
    "    \n",
    "def carregar_atualizar_geojson():\n",
    "    return atualizar_geojson(carregar_geojson_ne())\n",
    "\n",
    "def upper_name(geojson):\n",
    "    for f in geojson['features']:\n",
    "        f['properties']['name'] = f['properties']['name'].upper()\n",
    "    return geojson\n",
    "    "
   ]
  },
  {
   "cell_type": "markdown",
   "metadata": {},
   "source": [
    "# População estimada na região nordeste\n",
    "---"
   ]
  },
  {
   "cell_type": "code",
   "execution_count": 11,
   "metadata": {
    "scrolled": false
   },
   "outputs": [
    {
     "ename": "TypeError",
     "evalue": "choropleth() got an unexpected keyword argument 'highlight'",
     "output_type": "error",
     "traceback": [
      "\u001b[0;31m---------------------------------------------------------------------------\u001b[0m",
      "\u001b[0;31mTypeError\u001b[0m                                 Traceback (most recent call last)",
      "\u001b[0;32m<ipython-input-11-76b78d8f6b11>\u001b[0m in \u001b[0;36m<module>\u001b[0;34m()\u001b[0m\n\u001b[1;32m     23\u001b[0m     \u001b[0mlegend_name\u001b[0m\u001b[0;34m=\u001b[0m\u001b[0;34m'Population estimation (2017)'\u001b[0m\u001b[0;34m,\u001b[0m\u001b[0;34m\u001b[0m\u001b[0m\n\u001b[1;32m     24\u001b[0m     \u001b[0mhighlight\u001b[0m\u001b[0;34m=\u001b[0m\u001b[0;32mTrue\u001b[0m\u001b[0;34m,\u001b[0m\u001b[0;34m\u001b[0m\u001b[0m\n\u001b[0;32m---> 25\u001b[0;31m     \u001b[0mthreshold_scale\u001b[0m \u001b[0;34m=\u001b[0m \u001b[0mthreshold_scale\u001b[0m\u001b[0;34m,\u001b[0m\u001b[0;34m\u001b[0m\u001b[0m\n\u001b[0m\u001b[1;32m     26\u001b[0m     )\n\u001b[1;32m     27\u001b[0m \u001b[0mm\u001b[0m\u001b[0;34m\u001b[0m\u001b[0m\n",
      "\u001b[0;31mTypeError\u001b[0m: choropleth() got an unexpected keyword argument 'highlight'"
     ]
    }
   ],
   "source": [
    "\n",
    "dataPopNordeste = getRegiaoData(data2017, nordeste)\n",
    "\n",
    "\n",
    "\n",
    "m = folium.Map(\n",
    "    location=[-5.826592, -35.212558],\n",
    "    zoom_start=7,\n",
    "    tiles='Stamen Terrain'\n",
    ")\n",
    "ne_pop_geojson = carregar_atualizar_geojson()\n",
    "# create a threshold of legend\n",
    "threshold_scale = np.linspace(dataPopNordeste['POPULAÇÃO_ESTIMADA'].min(),\n",
    "                              dataPopNordeste['POPULAÇÃO_ESTIMADA'].max(), 6, dtype=int).tolist()\n",
    "\n",
    "# Configure geojson layer\n",
    "m.choropleth(\n",
    "    geo_path=ne_pop_geojson,\n",
    "    data=dataPopNordeste,\n",
    "    columns=['NOME_DO_MUNICÍPIO', 'POPULAÇÃO_ESTIMADA'],\n",
    "    key_on='feature.properties.description',\n",
    "    fill_color='OrRd',\n",
    "    legend_name='Population estimation (2017)',\n",
    "    highlight=True,\n",
    "    threshold_scale = threshold_scale,\n",
    "    )\n",
    "m"
   ]
  },
  {
   "cell_type": "code",
   "execution_count": null,
   "metadata": {
    "collapsed": true
   },
   "outputs": [],
   "source": [
    "#Outras métricas"
   ]
  },
  {
   "cell_type": "code",
   "execution_count": null,
   "metadata": {
    "collapsed": true
   },
   "outputs": [],
   "source": [
    "# Quantidade deFamilias atendidas pelo Bolsa Família\n",
    "\n",
    "ne_bf_geojson = carregar_geojson_ne()\n",
    "\n",
    "ne_bf_geojson = upper_name(ne_bf_geojson)\n",
    "    \n",
    "dataBF = pd.read_csv('data/BolsaFamilia2012.csv', encoding='latin-1') \n",
    "dataBF.columns = [cols.replace('uf', 'UF') for cols in dataBF.columns]\n",
    "\n",
    "\n",
    "BFdataNordeste = getRegiaoData(dataBF, nordeste)\n",
    "BFdataNordeste['nomemunici'] = BFdataNordeste['nomemunici'].str.replace('´', \"'\")\n",
    "BFdataNordeste.at[1429,'nomemunici'] = 'SÃO DOMINGOS'\n",
    "BFdataNordeste = BFdataNordeste.drop([1094])"
   ]
  },
  {
   "cell_type": "code",
   "execution_count": null,
   "metadata": {
    "scrolled": false
   },
   "outputs": [],
   "source": [
    "mBF = folium.Map(\n",
    "    location=[-5.826592, -35.212558],\n",
    "    zoom_start=7,\n",
    "    tiles='Stamen Terrain'\n",
    ")\n",
    "\n",
    "threshold_scale = np.linspace(BFdataNordeste['qtfamatend'].min(),\n",
    "                              BFdataNordeste['qtfamatend'].max(), 6, dtype=int).tolist()\n",
    "\n",
    "mBF.choropleth(\n",
    "    geo_data=ne_bf_geojson,\n",
    "    data=BFdataNordeste,\n",
    "    columns=['nomemunici', 'qtfamatend'],\n",
    "    key_on='feature.properties.name',\n",
    "    fill_color='RdPu',\n",
    "    legend_name='Quantidade de famílias atendidas (2012)',\n",
    "    highlight=True,\n",
    "    threshold_scale = threshold_scale,\n",
    "    )\n",
    "\n",
    "mBF"
   ]
  },
  {
   "cell_type": "code",
   "execution_count": null,
   "metadata": {
    "collapsed": true
   },
   "outputs": [],
   "source": [
    "#Atendimentos de famílias pelo CRAS"
   ]
  },
  {
   "cell_type": "code",
   "execution_count": null,
   "metadata": {
    "collapsed": true
   },
   "outputs": [],
   "source": [
    "dataset_cras = os.path.join('data', 'AtendimentosCRAS.csv')\n",
    "dataCras = pd.read_csv(dataset_cras, encoding='latin-1') \n",
    "dataCras.columns = [cols.replace('uf', 'UF') for cols in dataCras.columns]\n",
    "\n",
    "dataCrasNordeste = getRegiaoData(dataCras, nordeste)\n",
    "\n",
    "dataCrasNordeste['municipio'] = dataCrasNordeste['municipio'].str.replace('´', \"'\")\n",
    "dataCrasNordeste.at[2883,'municipio'] = 'SÃO DOMINGOS'\n",
    "dataCrasNordeste = dataCrasNordeste.drop(3166)\n",
    "\n",
    "ne_cras_geojson = carregar_geojson_ne()\n",
    "ne_cras_geojson = upper_name(ne_cras_geojson)"
   ]
  },
  {
   "cell_type": "code",
   "execution_count": null,
   "metadata": {
    "scrolled": false
   },
   "outputs": [],
   "source": [
    "mCras = folium.Map(\n",
    "    location=[-5.826592, -35.212558],\n",
    "    zoom_start=7,\n",
    "    tiles='Stamen Terrain'\n",
    ")\n",
    "\n",
    "threshold_scale = np.linspace(dataCrasNordeste['qtd_atend'].min(),\n",
    "                              dataCrasNordeste['qtd_atend'].max(), 6, dtype=int).tolist()\n",
    "\n",
    "\n",
    "mCras.choropleth(\n",
    "    geo_data=ne_cras_geojson,\n",
    "    data=dataCrasNordeste,\n",
    "    columns=['municipio', 'qtd_atend'],\n",
    "    key_on='feature.properties.name',\n",
    "    fill_color='RdPu',\n",
    "    legend_name='Quantidade de atendimentos CRAS (2012)',\n",
    "    highlight=True,\n",
    "    threshold_scale = threshold_scale,\n",
    "    )\n",
    "\n",
    "mCras\n"
   ]
  },
  {
   "cell_type": "code",
   "execution_count": null,
   "metadata": {
    "collapsed": true
   },
   "outputs": [],
   "source": [
    "# Estimativa de tempo de espera por corrida uber, nos bairros da cidade de natal"
   ]
  },
  {
   "cell_type": "code",
   "execution_count": null,
   "metadata": {
    "collapsed": true
   },
   "outputs": [],
   "source": [
    "geo_json_natal = json.load(open('geojson/natal.geojson',encoding='UTF-8'))"
   ]
  },
  {
   "cell_type": "code",
   "execution_count": null,
   "metadata": {
    "collapsed": true
   },
   "outputs": [],
   "source": [
    "\n",
    "estimativasData = pd.read_csv('data/estimates.csv', parse_dates=True, index_col=0)\n",
    "mediaEstimativaData = (estimativasData.pivot_table(index='Bairro',values='Tempo_espera')).reset_index()"
   ]
  },
  {
   "cell_type": "code",
   "execution_count": null,
   "metadata": {
    "scrolled": true
   },
   "outputs": [],
   "source": [
    "mUberTime = folium.Map(\n",
    "    location=[-5.7950000, -35.2094400],\n",
    "    zoom_start=14,\n",
    "    tiles='Stamen Terrain'\n",
    ")\n",
    "\n",
    "\n",
    "threshold_scale = np.linspace(mediaEstimativaData['Tempo_espera'].min(),\n",
    "                              mediaEstimativaData['Tempo_espera'].max(), 6, dtype=int).tolist()\n",
    "\n",
    "\n",
    "mUberTime.choropleth(\n",
    "    geo_data=geo_json_natal,\n",
    "    data=mediaEstimativaData,\n",
    "    columns=['Bairro', 'Tempo_espera'],\n",
    "    key_on='feature.properties.name',\n",
    "    fill_color='RdPu',\n",
    "    legend_name='Tempo de Espera Uber',\n",
    "    highlight=True,\n",
    "    threshold_scale = threshold_scale,\n",
    "    )\n",
    "\n",
    "\n",
    "\n",
    "\n",
    "mUberTime"
   ]
  },
  {
   "cell_type": "code",
   "execution_count": null,
   "metadata": {
    "collapsed": true
   },
   "outputs": [],
   "source": [
    "# Estimativa de preços do uber nos bairros da cidade de natal"
   ]
  },
  {
   "cell_type": "code",
   "execution_count": null,
   "metadata": {
    "collapsed": true
   },
   "outputs": [],
   "source": [
    "#leitura do geojson com os 10 bairros sorteados\n",
    "geo_10_neibhorhood = json.load(open('geojson/bairros_sorteados.geojson',encoding='UTF-8'))"
   ]
  },
  {
   "cell_type": "code",
   "execution_count": null,
   "metadata": {
    "collapsed": true
   },
   "outputs": [],
   "source": [
    "pricesData = pd.read_csv('data/prices.csv', names=\n",
    "                         ['Tempo_coleta', 'Origem', 'Destino', 'Tipo_uber', 'Distancia', \n",
    "                          'High_price', 'Low_price', 'Duration', 'Estimate', 'Currency'])\n",
    "pricesData['Mean_price'] = (pricesData['High_price'] + pricesData['Low_price'])/2.0\n",
    "pricesMeanData = (pricesData.pivot_table(index='Destino', values='Mean_price', fill_value=0)).reset_index(level=0)"
   ]
  },
  {
   "cell_type": "code",
   "execution_count": null,
   "metadata": {
    "scrolled": false
   },
   "outputs": [],
   "source": [
    "\n",
    "mUberPrices = folium.Map(\n",
    "    location=[-5.7950000, -35.2094400],\n",
    "    zoom_start=14,\n",
    "    tiles='Stamen Terrain'\n",
    ")\n",
    "\n",
    "\n",
    "threshold_scale = np.linspace(pricesMeanData['Mean_price'].min(),\n",
    "                              pricesMeanData['Mean_price'].max(), 6, dtype=int).tolist()\n",
    "\n",
    "\n",
    "\n",
    "mUberPrices.choropleth(\n",
    "    geo_data=geo_10_neibhorhood,\n",
    "    data=pricesMeanData,\n",
    "    columns=['Destino', 'Mean_price'],\n",
    "    key_on='feature.properties.name',\n",
    "    fill_color='RdPu',\n",
    "    legend_name='Media de preços por bairro',\n",
    "    highlight=True,\n",
    "    threshold_scale = threshold_scale,\n",
    "    )\n",
    "\n",
    "mUberPrices"
   ]
  },
  {
   "cell_type": "code",
   "execution_count": null,
   "metadata": {},
   "outputs": [],
   "source": [
    "#BFdataNordeste['nomemunici'] = BFdataNordeste['nomemunici'].str.replace('´', \"'\")\n",
    "df = dataCrasNordeste[~dataCrasNordeste['municipio'].isin([f['properties']['name'] for f in ne_cras_geojson['features']])]\n",
    "print(len(df))\n",
    "df\n",
    "#BFdataNordeste[BFdataNordeste['nomemunici'] == 'NOSSA SENHORA DE NAZARÉ']"
   ]
  }
 ],
 "metadata": {
  "kernelspec": {
   "display_name": "Python 3",
   "language": "python",
   "name": "python3"
  },
  "language_info": {
   "codemirror_mode": {
    "name": "ipython",
    "version": 3
   },
   "file_extension": ".py",
   "mimetype": "text/x-python",
   "name": "python",
   "nbconvert_exporter": "python",
   "pygments_lexer": "ipython3",
   "version": "3.6.2"
  }
 },
 "nbformat": 4,
 "nbformat_minor": 2
}
